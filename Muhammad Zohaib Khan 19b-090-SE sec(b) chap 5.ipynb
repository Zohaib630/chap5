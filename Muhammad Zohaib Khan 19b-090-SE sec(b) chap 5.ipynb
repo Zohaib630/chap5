{
 "cells": [
  {
   "cell_type": "markdown",
   "metadata": {},
   "source": [
    "# Muhammad Zohaib Khan 19b-090-SE sec(b) chap 5"
   ]
  },
  {
   "cell_type": "code",
   "execution_count": 1,
   "metadata": {},
   "outputs": [
    {
     "name": "stdout",
     "output_type": "stream",
     "text": [
      "It is hot.\n",
      "\n",
      "It is cool.\n",
      "\n",
      "It is freezing.\n",
      "\n"
     ]
    }
   ],
   "source": [
    "def tempreture(t):\n",
    "    \"print message based on tempreture value t\"\n",
    "    if t > 86:\n",
    "        print(\"It is hot.\")\n",
    "    elif t > 32 :\n",
    "        print(\"It is cool.\")\n",
    "    else:\n",
    "        print(\"It is freezing.\")  \n",
    "    return\"\"    \n",
    "print(tempreture(88))       \n",
    "print(tempreture(74))\n",
    "print(tempreture(20))"
   ]
  },
  {
   "cell_type": "code",
   "execution_count": 2,
   "metadata": {},
   "outputs": [
    {
     "name": "stdout",
     "output_type": "stream",
     "text": [
      "It is cool.\n",
      "\n"
     ]
    }
   ],
   "source": [
    "def tempreture(t):\n",
    "    \"print message based on tempreture value t\"\n",
    "    if 32 < t <=86 :\n",
    "        print(\"It is cool.\")\n",
    "    elif t >86 :\n",
    "        print(\"It is cool.\")\n",
    "    else:\n",
    "        print(\"It is freezing.\")  \n",
    "    return\"\"  \n",
    "print(tempreture(74))"
   ]
  },
  {
   "cell_type": "markdown",
   "metadata": {},
   "source": [
    "# Question 1"
   ]
  },
  {
   "cell_type": "code",
   "execution_count": 3,
   "metadata": {},
   "outputs": [
    {
     "name": "stdout",
     "output_type": "stream",
     "text": [
      "Normal.\n",
      "\n",
      "Overwight\n",
      "\n"
     ]
    }
   ],
   "source": [
    "def MyBMI(weight,height):\n",
    "    y=(weight*703)/(height**2)\n",
    "    if y < 18.5:\n",
    "        print(\"Underwieght.\")\n",
    "    elif 18.5 <= y < 25 :\n",
    "        print(\"Normal.\")\n",
    "    else :\n",
    "        print(\"Overwight\")\n",
    "    return\"\"\n",
    "print(MyBMI(154,75))\n",
    "print(MyBMI(123,55))"
   ]
  },
  {
   "cell_type": "code",
   "execution_count": 4,
   "metadata": {},
   "outputs": [
    {
     "name": "stdout",
     "output_type": "stream",
     "text": [
      "Fish\n",
      "Tiger\n",
      "Chcik\n"
     ]
    }
   ],
   "source": [
    "l=[\"Fish\",\"Tiger\",\"Chcik\"]\n",
    "for animal in l:\n",
    "    print(animal)"
   ]
  },
  {
   "cell_type": "code",
   "execution_count": 5,
   "metadata": {},
   "outputs": [
    {
     "name": "stdout",
     "output_type": "stream",
     "text": [
      "e\n"
     ]
    }
   ],
   "source": [
    "d=\"Berry\"\n",
    "for c in d:\n",
    "    if c in \"aeiou\":\n",
    "        print((c))"
   ]
  },
  {
   "cell_type": "markdown",
   "metadata": {},
   "source": [
    "# Question 2"
   ]
  },
  {
   "cell_type": "code",
   "execution_count": 6,
   "metadata": {},
   "outputs": [
    {
     "name": "stdout",
     "output_type": "stream",
     "text": [
      "2 4 8 16 32 64 128 256 512 1024 2048 \n"
     ]
    }
   ],
   "source": [
    "def powers(n):\n",
    "    for i in range(1,n+1):\n",
    "        print(2**i,end=\" \")\n",
    "    return\"\"\n",
    "print(powers(11))"
   ]
  },
  {
   "cell_type": "code",
   "execution_count": 7,
   "metadata": {},
   "outputs": [
    {
     "name": "stdout",
     "output_type": "stream",
     "text": [
      "Cat\n",
      "Fish\n",
      "Chick\n",
      "Hen\n",
      "Cat\n",
      "Fish\n",
      "Chick\n",
      "Hen\n"
     ]
    }
   ],
   "source": [
    "pets=[\"Cat\",\"Fish\",\"Chick\",\"Hen\"]\n",
    "for animal in pets:\n",
    "    print(animal)\n",
    "for i in range(len(pets)):\n",
    "    print(pets[i])"
   ]
  },
  {
   "cell_type": "code",
   "execution_count": 8,
   "metadata": {},
   "outputs": [
    {
     "name": "stdout",
     "output_type": "stream",
     "text": [
      "True\n"
     ]
    }
   ],
   "source": [
    "def sorted(lst):\n",
    "    for i in range(0,len(lst)-1):\n",
    "        if lst[i]>lst[i+1]:\n",
    "            return False\n",
    "    return True\n",
    "print(sorted([1,2,3,4,5,6]))    "
   ]
  },
  {
   "cell_type": "markdown",
   "metadata": {},
   "source": [
    "# Question 3"
   ]
  },
  {
   "cell_type": "code",
   "execution_count": 9,
   "metadata": {},
   "outputs": [
    {
     "name": "stdout",
     "output_type": "stream",
     "text": [
      "False\n",
      "False\n",
      "True\n"
     ]
    }
   ],
   "source": [
    "def arthemetic(lst):\n",
    "    if len(lst)<2:\n",
    "        return True\n",
    "    diff=lst[1]-lst[0]\n",
    "    for i in range(1,len(lst)-1):\n",
    "        if lst[i+1]-lst[i] !=diff:\n",
    "            return False\n",
    "    return True\n",
    "print(arthemetic([3,3,4,11,13]))\n",
    "print(arthemetic([3,6,9,11,14]))\n",
    "print(arthemetic([2]))"
   ]
  },
  {
   "cell_type": "code",
   "execution_count": 10,
   "metadata": {},
   "outputs": [
    {
     "name": "stdout",
     "output_type": "stream",
     "text": [
      "16\n",
      "5\n",
      "0\n"
     ]
    }
   ],
   "source": [
    "numlist=[1,2,5,-1,9]\n",
    "mysum=0\n",
    "for number in numlist:\n",
    "    mysum=mysum+number\n",
    "print(mysum)\n",
    "mysum1=0\n",
    "for number1 in numlist:\n",
    "    mysum1+=1\n",
    "print(mysum1)   \n",
    "myprod=0\n",
    "for num in numlist:\n",
    "    myprod=myprod*num\n",
    "print(myprod)    "
   ]
  },
  {
   "cell_type": "code",
   "execution_count": 11,
   "metadata": {},
   "outputs": [
    {
     "name": "stdout",
     "output_type": "stream",
     "text": [
      "-384\n"
     ]
    }
   ],
   "source": [
    "numlist=[2,4,6,-1,8]\n",
    "myprod=1\n",
    "for num in numlist:\n",
    "    myprod=myprod*num\n",
    "print(myprod)"
   ]
  },
  {
   "cell_type": "markdown",
   "metadata": {},
   "source": [
    "# Question 4"
   ]
  },
  {
   "cell_type": "code",
   "execution_count": 12,
   "metadata": {},
   "outputs": [
    {
     "name": "stdout",
     "output_type": "stream",
     "text": [
      "6\n",
      "24\n",
      "720\n",
      "5040\n"
     ]
    }
   ],
   "source": [
    "def factorial(n):\n",
    "    \"return n!\"\n",
    "    res=1\n",
    "    for i in range(2,n+1):\n",
    "        res *=i\n",
    "    return res\n",
    "print(factorial(3))\n",
    "print(factorial(4))\n",
    "print(factorial(6))\n",
    "print(factorial(7))"
   ]
  },
  {
   "cell_type": "code",
   "execution_count": null,
   "metadata": {},
   "outputs": [],
   "source": []
  },
  {
   "cell_type": "code",
   "execution_count": 13,
   "metadata": {},
   "outputs": [
    {
     "name": "stdout",
     "output_type": "stream",
     "text": [
      " RAM\n",
      " CPU\n"
     ]
    }
   ],
   "source": [
    "def acroynym(phrase):\n",
    "    words=phrase.split()\n",
    "    res=\" \"\n",
    "    for w in words:\n",
    "        res=res+w[0].upper()\n",
    "    return res\n",
    "print(acroynym(\"random access memory\"))\n",
    "print(acroynym(\"central processing unit\"))"
   ]
  },
  {
   "cell_type": "markdown",
   "metadata": {},
   "source": [
    "# Question 5"
   ]
  },
  {
   "cell_type": "code",
   "execution_count": 14,
   "metadata": {},
   "outputs": [
    {
     "name": "stdout",
     "output_type": "stream",
     "text": [
      "[1, 2]\n",
      "[1, 5]\n",
      "[1, 2, 4, 8]\n"
     ]
    }
   ],
   "source": [
    "def divisors(n):\n",
    "    res=[]\n",
    "    for i in range(1,n+1):\n",
    "        if n%i==0:\n",
    "            res.append(i)\n",
    "    return res     \n",
    "print(divisors(2))\n",
    "print(divisors(5))\n",
    "print(divisors(8))"
   ]
  },
  {
   "cell_type": "code",
   "execution_count": 15,
   "metadata": {},
   "outputs": [
    {
     "name": "stdout",
     "output_type": "stream",
     "text": [
      "0 1 2 3 4 5 "
     ]
    }
   ],
   "source": [
    "n=6\n",
    "for i in range(n):\n",
    "    print(i,end=\" \")"
   ]
  },
  {
   "cell_type": "markdown",
   "metadata": {},
   "source": [
    "# Question 6"
   ]
  },
  {
   "cell_type": "code",
   "execution_count": 16,
   "metadata": {},
   "outputs": [
    {
     "name": "stdout",
     "output_type": "stream",
     "text": [
      "3\n",
      "9\n",
      "[3, 9]\n"
     ]
    }
   ],
   "source": [
    "def xmult(x,y):\n",
    "    l=[]\n",
    "    for i in x:\n",
    "        for j in y:\n",
    "            print(i*j)\n",
    "            l.append(i*j)\n",
    "    return l       \n",
    "print(xmult([3],([1,3])))"
   ]
  },
  {
   "cell_type": "markdown",
   "metadata": {},
   "source": [
    "# Question 7"
   ]
  },
  {
   "cell_type": "code",
   "execution_count": 17,
   "metadata": {},
   "outputs": [
    {
     "name": "stdout",
     "output_type": "stream",
     "text": [
      "None\n"
     ]
    }
   ],
   "source": [
    "def bubblesort(lst):\n",
    "    for i in range(len(lst)-1,0,-1):\n",
    "        for j in range(i):\n",
    "            if lst[j+1] < lst[j]:\n",
    "                lst[j],lst[j+1]=lst[j+1],lst[j]\n",
    "\n",
    "print(bubblesort([4,2,4,6,5,1,3]))"
   ]
  },
  {
   "cell_type": "code",
   "execution_count": null,
   "metadata": {},
   "outputs": [],
   "source": []
  }
 ],
 "metadata": {
  "kernelspec": {
   "display_name": "Python 3",
   "language": "python",
   "name": "python3"
  },
  "language_info": {
   "codemirror_mode": {
    "name": "ipython",
    "version": 3
   },
   "file_extension": ".py",
   "mimetype": "text/x-python",
   "name": "python",
   "nbconvert_exporter": "python",
   "pygments_lexer": "ipython3",
   "version": "3.7.3"
  }
 },
 "nbformat": 4,
 "nbformat_minor": 2
}
